{
  "nbformat": 4,
  "nbformat_minor": 0,
  "metadata": {
    "colab": {
      "provenance": []
    },
    "kernelspec": {
      "name": "python3",
      "display_name": "Python 3"
    },
    "language_info": {
      "name": "python"
    }
  },
  "cells": [
    {
      "cell_type": "code",
      "source": [
        "from google.colab import drive\n",
        "drive.mount('/content/drive/', force_remount=True)"
      ],
      "metadata": {
        "id": "-VYseXg0AZMq",
        "outputId": "7586e452-b6b6-4b89-f618-126911152ea9",
        "colab": {
          "base_uri": "https://localhost:8080/"
        }
      },
      "execution_count": null,
      "outputs": [
        {
          "output_type": "stream",
          "name": "stdout",
          "text": [
            "Mounted at /content/drive/\n"
          ]
        }
      ]
    },
    {
      "cell_type": "code",
      "source": [
        "import os\n",
        "import json\n",
        "import librosa\n",
        "import math\n",
        "SAMPLE_RATE = 22050\n",
        "TRACK_DURATION = 30\n",
        "SAMPLE_PER_TRACK = SAMPLE_RATE * TRACK_DURATION\n",
        "dataset_path = \"/content/drive/MyDrive/7th_sem_minor/genres_original/genres_original\"\n",
        "json_path = \"/content/data3.json\""
      ],
      "metadata": {
        "id": "ZQ9wgidOC_4F"
      },
      "execution_count": null,
      "outputs": []
    },
    {
      "cell_type": "code",
      "execution_count": null,
      "metadata": {
        "id": "Imop-TkP3wN5"
      },
      "outputs": [],
      "source": [
        "\n",
        "\n",
        "def save_mfcc(dataset_path, json_path, n_mfcc=13, n_fft=2048, hop_length = 512, num_segments = 5):\n",
        "  data = {\n",
        "      \"mapping\": [],\n",
        "      \"lables\": [],\n",
        "      \"mfcc\": []\n",
        "  }\n",
        "\n",
        "  num_sample_per_segment = int(SAMPLE_PER_TRACK / num_segments)\n",
        "  expected_num_mfcc_vector_per_segment = math.ceil(num_sample_per_segment / hop_length)\n",
        "\n",
        "  print(dataset_path)\n",
        "\n",
        "  for i, (dirpath, dirnames, filenames) in enumerate(os.walk(dataset_path)):\n",
        "    print(\"hello\")\n",
        "    if dirpath is not dataset_path:\n",
        "      dirpath_components = dirpath.split(\"/\")\n",
        "      semantic_label = dirpath_components[-1]\n",
        "      data[\"mapping\"].append(semantic_label)\n",
        "      print(\"\\nProcessing {}.\".format(semantic_label))\n",
        "\n",
        "      for f in filenames:\n",
        "        file_path = os.path.join(dirpath, f)\n",
        "        signal, sr = librosa.load(file_path, sr = SAMPLE_RATE)\n",
        "        for s in range(num_segments):\n",
        "          start_sample = num_sample_per_segment * s\n",
        "          end_sample = num_sample_per_segment + start_sample\n",
        "\n",
        "          mfcc = librosa.feature.mfcc(signal[start_sample:end_sample], sr=sr, n_fft = n_fft, n_mfcc = n_mfcc, hop_length = hop_length)\n",
        "          print(mfcc.shape)\n",
        "          mfcc = mfcc.T\n",
        "\n",
        "          if len(mfcc) == expected_num_mfcc_vector_per_segment:\n",
        "            data[\"mfcc\"].append(mfcc.tolist())\n",
        "            data[\"lables\"].append(i-1)\n",
        "            print(\"{}, segment:{}\".format(file_path, s+1))\n",
        "\n",
        "  print(\"Hello world\")\n",
        "  with open(json_path, \"w\") as fp:\n",
        "    json.dump(data, fp, indent=4)\n",
        "\n",
        "\n"
      ]
    },
    {
      "cell_type": "code",
      "source": [
        "if __name__ == \"__main__\":\n",
        "  save_mfcc(dataset_path, json_path, num_segments=10)\n",
        "\n",
        ""
      ],
      "metadata": {
        "colab": {
          "base_uri": "https://localhost:8080/",
          "height": 1000
        },
        "id": "kkMAkaZdKIwm",
        "outputId": "eb529709-4f01-4829-ff23-bc4ed0733d56"
      },
      "execution_count": null,
      "outputs": [
        {
          "output_type": "stream",
          "name": "stdout",
          "text": [
            "/content/drive/MyDrive/7th_sem_minor/genres_original/genres_original\n",
            "hello\n",
            "hello\n",
            "\n",
            "Processing country.\n",
            "(13, 130)\n",
            "/content/drive/MyDrive/7th_sem_minor/genres_original/genres_original/country/country.00001.wav, segment:1\n",
            "(13, 130)\n",
            "/content/drive/MyDrive/7th_sem_minor/genres_original/genres_original/country/country.00001.wav, segment:2\n",
            "(13, 130)\n",
            "/content/drive/MyDrive/7th_sem_minor/genres_original/genres_original/country/country.00001.wav, segment:3\n",
            "(13, 130)\n",
            "/content/drive/MyDrive/7th_sem_minor/genres_original/genres_original/country/country.00001.wav, segment:4\n",
            "(13, 130)\n",
            "/content/drive/MyDrive/7th_sem_minor/genres_original/genres_original/country/country.00001.wav, segment:5\n",
            "(13, 130)\n",
            "/content/drive/MyDrive/7th_sem_minor/genres_original/genres_original/country/country.00001.wav, segment:6\n",
            "(13, 130)\n",
            "/content/drive/MyDrive/7th_sem_minor/genres_original/genres_original/country/country.00001.wav, segment:7\n",
            "(13, 130)\n",
            "/content/drive/MyDrive/7th_sem_minor/genres_original/genres_original/country/country.00001.wav, segment:8\n",
            "(13, 130)\n",
            "/content/drive/MyDrive/7th_sem_minor/genres_original/genres_original/country/country.00001.wav, segment:9\n",
            "(13, 130)\n",
            "/content/drive/MyDrive/7th_sem_minor/genres_original/genres_original/country/country.00001.wav, segment:10\n",
            "(13, 130)\n",
            "/content/drive/MyDrive/7th_sem_minor/genres_original/genres_original/country/country.00000.wav, segment:1\n",
            "(13, 130)\n",
            "/content/drive/MyDrive/7th_sem_minor/genres_original/genres_original/country/country.00000.wav, segment:2\n",
            "(13, 130)\n",
            "/content/drive/MyDrive/7th_sem_minor/genres_original/genres_original/country/country.00000.wav, segment:3\n",
            "(13, 130)\n",
            "/content/drive/MyDrive/7th_sem_minor/genres_original/genres_original/country/country.00000.wav, segment:4\n",
            "(13, 130)\n",
            "/content/drive/MyDrive/7th_sem_minor/genres_original/genres_original/country/country.00000.wav, segment:5\n",
            "(13, 130)\n",
            "/content/drive/MyDrive/7th_sem_minor/genres_original/genres_original/country/country.00000.wav, segment:6\n",
            "(13, 130)\n",
            "/content/drive/MyDrive/7th_sem_minor/genres_original/genres_original/country/country.00000.wav, segment:7\n",
            "(13, 130)\n",
            "/content/drive/MyDrive/7th_sem_minor/genres_original/genres_original/country/country.00000.wav, segment:8\n",
            "(13, 130)\n",
            "/content/drive/MyDrive/7th_sem_minor/genres_original/genres_original/country/country.00000.wav, segment:9\n",
            "(13, 130)\n",
            "/content/drive/MyDrive/7th_sem_minor/genres_original/genres_original/country/country.00000.wav, segment:10\n"
          ]
        },
        {
          "output_type": "error",
          "ename": "KeyboardInterrupt",
          "evalue": "ignored",
          "traceback": [
            "\u001b[0;31m---------------------------------------------------------------------------\u001b[0m",
            "\u001b[0;31mKeyboardInterrupt\u001b[0m                         Traceback (most recent call last)",
            "\u001b[0;32m<ipython-input-4-af1c396e5fab>\u001b[0m in \u001b[0;36m<module>\u001b[0;34m\u001b[0m\n\u001b[1;32m      1\u001b[0m \u001b[0;32mif\u001b[0m \u001b[0m__name__\u001b[0m \u001b[0;34m==\u001b[0m \u001b[0;34m\"__main__\"\u001b[0m\u001b[0;34m:\u001b[0m\u001b[0;34m\u001b[0m\u001b[0;34m\u001b[0m\u001b[0m\n\u001b[0;32m----> 2\u001b[0;31m   \u001b[0msave_mfcc\u001b[0m\u001b[0;34m(\u001b[0m\u001b[0mdataset_path\u001b[0m\u001b[0;34m,\u001b[0m \u001b[0mjson_path\u001b[0m\u001b[0;34m,\u001b[0m \u001b[0mnum_segments\u001b[0m\u001b[0;34m=\u001b[0m\u001b[0;36m10\u001b[0m\u001b[0;34m)\u001b[0m\u001b[0;34m\u001b[0m\u001b[0;34m\u001b[0m\u001b[0m\n\u001b[0m\u001b[1;32m      3\u001b[0m \u001b[0;34m\u001b[0m\u001b[0m\n\u001b[1;32m      4\u001b[0m \u001b[0;34m\u001b[0m\u001b[0m\n",
            "\u001b[0;32m<ipython-input-1-e381ca762b43>\u001b[0m in \u001b[0;36msave_mfcc\u001b[0;34m(dataset_path, json_path, n_mfcc, n_fft, hop_length, num_segments)\u001b[0m\n\u001b[1;32m     21\u001b[0m       \u001b[0;32mfor\u001b[0m \u001b[0mf\u001b[0m \u001b[0;32min\u001b[0m \u001b[0mfilenames\u001b[0m\u001b[0;34m:\u001b[0m\u001b[0;34m\u001b[0m\u001b[0;34m\u001b[0m\u001b[0m\n\u001b[1;32m     22\u001b[0m         \u001b[0mfile_path\u001b[0m \u001b[0;34m=\u001b[0m \u001b[0mos\u001b[0m\u001b[0;34m.\u001b[0m\u001b[0mpath\u001b[0m\u001b[0;34m.\u001b[0m\u001b[0mjoin\u001b[0m\u001b[0;34m(\u001b[0m\u001b[0mdirpath\u001b[0m\u001b[0;34m,\u001b[0m \u001b[0mf\u001b[0m\u001b[0;34m)\u001b[0m\u001b[0;34m\u001b[0m\u001b[0;34m\u001b[0m\u001b[0m\n\u001b[0;32m---> 23\u001b[0;31m         \u001b[0msignal\u001b[0m\u001b[0;34m,\u001b[0m \u001b[0msr\u001b[0m \u001b[0;34m=\u001b[0m \u001b[0mlibrosa\u001b[0m\u001b[0;34m.\u001b[0m\u001b[0mload\u001b[0m\u001b[0;34m(\u001b[0m\u001b[0mfile_path\u001b[0m\u001b[0;34m,\u001b[0m \u001b[0msr\u001b[0m \u001b[0;34m=\u001b[0m \u001b[0mSAMPLE_RATE\u001b[0m\u001b[0;34m)\u001b[0m\u001b[0;34m\u001b[0m\u001b[0;34m\u001b[0m\u001b[0m\n\u001b[0m\u001b[1;32m     24\u001b[0m         \u001b[0;32mfor\u001b[0m \u001b[0ms\u001b[0m \u001b[0;32min\u001b[0m \u001b[0mrange\u001b[0m\u001b[0;34m(\u001b[0m\u001b[0mnum_segments\u001b[0m\u001b[0;34m)\u001b[0m\u001b[0;34m:\u001b[0m\u001b[0;34m\u001b[0m\u001b[0;34m\u001b[0m\u001b[0m\n\u001b[1;32m     25\u001b[0m           \u001b[0mstart_sample\u001b[0m \u001b[0;34m=\u001b[0m \u001b[0mnum_sample_per_segment\u001b[0m \u001b[0;34m*\u001b[0m \u001b[0ms\u001b[0m\u001b[0;34m\u001b[0m\u001b[0;34m\u001b[0m\u001b[0m\n",
            "\u001b[0;32m/usr/local/lib/python3.8/dist-packages/librosa/core/audio.py\u001b[0m in \u001b[0;36mload\u001b[0;34m(path, sr, mono, offset, duration, dtype, res_type)\u001b[0m\n\u001b[1;32m    147\u001b[0m \u001b[0;34m\u001b[0m\u001b[0m\n\u001b[1;32m    148\u001b[0m     \u001b[0;32mtry\u001b[0m\u001b[0;34m:\u001b[0m\u001b[0;34m\u001b[0m\u001b[0;34m\u001b[0m\u001b[0m\n\u001b[0;32m--> 149\u001b[0;31m         \u001b[0;32mwith\u001b[0m \u001b[0msf\u001b[0m\u001b[0;34m.\u001b[0m\u001b[0mSoundFile\u001b[0m\u001b[0;34m(\u001b[0m\u001b[0mpath\u001b[0m\u001b[0;34m)\u001b[0m \u001b[0;32mas\u001b[0m \u001b[0msf_desc\u001b[0m\u001b[0;34m:\u001b[0m\u001b[0;34m\u001b[0m\u001b[0;34m\u001b[0m\u001b[0m\n\u001b[0m\u001b[1;32m    150\u001b[0m             \u001b[0msr_native\u001b[0m \u001b[0;34m=\u001b[0m \u001b[0msf_desc\u001b[0m\u001b[0;34m.\u001b[0m\u001b[0msamplerate\u001b[0m\u001b[0;34m\u001b[0m\u001b[0;34m\u001b[0m\u001b[0m\n\u001b[1;32m    151\u001b[0m             \u001b[0;32mif\u001b[0m \u001b[0moffset\u001b[0m\u001b[0;34m:\u001b[0m\u001b[0;34m\u001b[0m\u001b[0;34m\u001b[0m\u001b[0m\n",
            "\u001b[0;32m/usr/local/lib/python3.8/dist-packages/soundfile.py\u001b[0m in \u001b[0;36m__init__\u001b[0;34m(self, file, mode, samplerate, channels, subtype, endian, format, closefd)\u001b[0m\n\u001b[1;32m    653\u001b[0m         self._info = _create_info_struct(file, mode, samplerate, channels,\n\u001b[1;32m    654\u001b[0m                                          format, subtype, endian)\n\u001b[0;32m--> 655\u001b[0;31m         \u001b[0mself\u001b[0m\u001b[0;34m.\u001b[0m\u001b[0m_file\u001b[0m \u001b[0;34m=\u001b[0m \u001b[0mself\u001b[0m\u001b[0;34m.\u001b[0m\u001b[0m_open\u001b[0m\u001b[0;34m(\u001b[0m\u001b[0mfile\u001b[0m\u001b[0;34m,\u001b[0m \u001b[0mmode_int\u001b[0m\u001b[0;34m,\u001b[0m \u001b[0mclosefd\u001b[0m\u001b[0;34m)\u001b[0m\u001b[0;34m\u001b[0m\u001b[0;34m\u001b[0m\u001b[0m\n\u001b[0m\u001b[1;32m    656\u001b[0m         \u001b[0;32mif\u001b[0m \u001b[0mset\u001b[0m\u001b[0;34m(\u001b[0m\u001b[0mmode\u001b[0m\u001b[0;34m)\u001b[0m\u001b[0;34m.\u001b[0m\u001b[0missuperset\u001b[0m\u001b[0;34m(\u001b[0m\u001b[0;34m'r+'\u001b[0m\u001b[0;34m)\u001b[0m \u001b[0;32mand\u001b[0m \u001b[0mself\u001b[0m\u001b[0;34m.\u001b[0m\u001b[0mseekable\u001b[0m\u001b[0;34m(\u001b[0m\u001b[0;34m)\u001b[0m\u001b[0;34m:\u001b[0m\u001b[0;34m\u001b[0m\u001b[0;34m\u001b[0m\u001b[0m\n\u001b[1;32m    657\u001b[0m             \u001b[0;31m# Move write position to 0 (like in Python file objects)\u001b[0m\u001b[0;34m\u001b[0m\u001b[0;34m\u001b[0m\u001b[0;34m\u001b[0m\u001b[0m\n",
            "\u001b[0;32m/usr/local/lib/python3.8/dist-packages/soundfile.py\u001b[0m in \u001b[0;36m_open\u001b[0;34m(self, file, mode_int, closefd)\u001b[0m\n\u001b[1;32m   1200\u001b[0m                 \u001b[0;32melse\u001b[0m\u001b[0;34m:\u001b[0m\u001b[0;34m\u001b[0m\u001b[0;34m\u001b[0m\u001b[0m\n\u001b[1;32m   1201\u001b[0m                     \u001b[0mfile\u001b[0m \u001b[0;34m=\u001b[0m \u001b[0mfile\u001b[0m\u001b[0;34m.\u001b[0m\u001b[0mencode\u001b[0m\u001b[0;34m(\u001b[0m\u001b[0m_sys\u001b[0m\u001b[0;34m.\u001b[0m\u001b[0mgetfilesystemencoding\u001b[0m\u001b[0;34m(\u001b[0m\u001b[0;34m)\u001b[0m\u001b[0;34m)\u001b[0m\u001b[0;34m\u001b[0m\u001b[0;34m\u001b[0m\u001b[0m\n\u001b[0;32m-> 1202\u001b[0;31m             \u001b[0mfile_ptr\u001b[0m \u001b[0;34m=\u001b[0m \u001b[0mopenfunction\u001b[0m\u001b[0;34m(\u001b[0m\u001b[0mfile\u001b[0m\u001b[0;34m,\u001b[0m \u001b[0mmode_int\u001b[0m\u001b[0;34m,\u001b[0m \u001b[0mself\u001b[0m\u001b[0;34m.\u001b[0m\u001b[0m_info\u001b[0m\u001b[0;34m)\u001b[0m\u001b[0;34m\u001b[0m\u001b[0;34m\u001b[0m\u001b[0m\n\u001b[0m\u001b[1;32m   1203\u001b[0m         \u001b[0;32melif\u001b[0m \u001b[0misinstance\u001b[0m\u001b[0;34m(\u001b[0m\u001b[0mfile\u001b[0m\u001b[0;34m,\u001b[0m \u001b[0mint\u001b[0m\u001b[0;34m)\u001b[0m\u001b[0;34m:\u001b[0m\u001b[0;34m\u001b[0m\u001b[0;34m\u001b[0m\u001b[0m\n\u001b[1;32m   1204\u001b[0m             \u001b[0mfile_ptr\u001b[0m \u001b[0;34m=\u001b[0m \u001b[0m_snd\u001b[0m\u001b[0;34m.\u001b[0m\u001b[0msf_open_fd\u001b[0m\u001b[0;34m(\u001b[0m\u001b[0mfile\u001b[0m\u001b[0;34m,\u001b[0m \u001b[0mmode_int\u001b[0m\u001b[0;34m,\u001b[0m \u001b[0mself\u001b[0m\u001b[0;34m.\u001b[0m\u001b[0m_info\u001b[0m\u001b[0;34m,\u001b[0m \u001b[0mclosefd\u001b[0m\u001b[0;34m)\u001b[0m\u001b[0;34m\u001b[0m\u001b[0;34m\u001b[0m\u001b[0m\n",
            "\u001b[0;31mKeyboardInterrupt\u001b[0m: "
          ]
        }
      ]
    }
  ]
}